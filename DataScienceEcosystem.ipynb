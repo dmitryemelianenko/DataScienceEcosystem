{
 "cells": [
  {
   "cell_type": "markdown",
   "id": "067fffed-a770-47f7-a010-290243ba505c",
   "metadata": {},
   "source": [
    "# Data Science Tools and Ecosystem"
   ]
  },
  {
   "cell_type": "markdown",
   "id": "efdc5681-e05e-417a-b81f-5f42f7360ff8",
   "metadata": {},
   "source": [
    "<b>Objectives:<b>\n",
    "<ul>\n",
    "<li> List popular languages for Data Science \n",
    "<li> List commonly used libraries by Data Scientists \n",
    "<li> List some of the open scourse Data Science Tools \n",
    "<li> Show how to eavluate arithmetic expressions in Python\n",
    "<ul>"
   ]
  },
  {
   "cell_type": "markdown",
   "id": "b0d0b990-e68e-426a-a550-646b3d978481",
   "metadata": {},
   "source": [
    "In this notebook, Data Science Tools and Ecosystem are summarized."
   ]
  },
  {
   "cell_type": "markdown",
   "id": "bd223b6b-2b7e-4e35-b888-692b5da88562",
   "metadata": {},
   "source": [
    "Some of the popular languages that Data Scientists use are:\n",
    "1. R\n",
    "2. Python\n",
    "3. Java\n",
    "4. C++\n",
    "5. SQL"
   ]
  },
  {
   "cell_type": "markdown",
   "id": "16f80968-c426-4213-a24e-ec065268d05a",
   "metadata": {},
   "source": [
    "Some of the commonly used libraries used by Data Scientists include:\n",
    "1. Pandas\n",
    "2. NumPy\n",
    "3. SciPy\n",
    "4. Matplotlib"
   ]
  },
  {
   "cell_type": "markdown",
   "id": "6108a9af-950b-4a24-9b60-dcdc31055a22",
   "metadata": {},
   "source": [
    "| Data Science Tools |\n",
    "|---|\n",
    "| Jupyter Notebooks |\n",
    "| Apache Zeppelin | \n",
    "| RStudio |"
   ]
  },
  {
   "cell_type": "markdown",
   "id": "aac9a2f3-95ab-4984-90f3-680a31ef2108",
   "metadata": {},
   "source": [
    "### Below are a few examples of evaluating arithmetic expressions in Python"
   ]
  },
  {
   "cell_type": "code",
   "execution_count": 1,
   "id": "02234e08-6de5-42b5-a120-d05d209a7d60",
   "metadata": {},
   "outputs": [
    {
     "data": {
      "text/plain": [
       "17"
      ]
     },
     "execution_count": 1,
     "metadata": {},
     "output_type": "execute_result"
    }
   ],
   "source": [
    "# This a simple arithmetic expression to mutiply then add integers\n",
    "(3*4) + 5"
   ]
  },
  {
   "cell_type": "code",
   "execution_count": 2,
   "id": "35f6c7d8-a2e9-459b-9cf4-3517d8ade4a7",
   "metadata": {},
   "outputs": [
    {
     "data": {
      "text/plain": [
       "3.3333333333333335"
      ]
     },
     "execution_count": 2,
     "metadata": {},
     "output_type": "execute_result"
    }
   ],
   "source": [
    "# This will convert 200 minutes to hours by diving by 60\n",
    "200/60"
   ]
  },
  {
   "cell_type": "markdown",
   "id": "fd500a35-28be-411f-97bd-7913ba2e5670",
   "metadata": {},
   "source": [
    "## Author\n",
    "Dmitry Emelianenko"
   ]
  }
 ],
 "metadata": {
  "kernelspec": {
   "display_name": "Python 3 (ipykernel)",
   "language": "python",
   "name": "python3"
  },
  "language_info": {
   "codemirror_mode": {
    "name": "ipython",
    "version": 3
   },
   "file_extension": ".py",
   "mimetype": "text/x-python",
   "name": "python",
   "nbconvert_exporter": "python",
   "pygments_lexer": "ipython3",
   "version": "3.12.3"
  }
 },
 "nbformat": 4,
 "nbformat_minor": 5
}
